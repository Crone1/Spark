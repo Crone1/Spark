{
 "cells": [
  {
   "cell_type": "markdown",
   "metadata": {},
   "source": [
    "# Imports"
   ]
  },
  {
   "cell_type": "code",
   "execution_count": 1,
   "metadata": {},
   "outputs": [],
   "source": [
    "# import packaed for reading in data\n",
    "from pyspark.sql import SparkSession\n",
    "from pyspark.context import SparkContext\n",
    "\n",
    "# import packages for types\n",
    "from pyspark.sql.types import IntegerType, DoubleType\n",
    "\n",
    "# import functions for getting substring\n",
    "from pyspark.sql.functions import substring\n",
    "\n",
    "# import functions for model\n",
    "from pyspark.ml.recommendation import ALS\n",
    "from pyspark.ml.evaluation import RegressionEvaluator\n",
    "\n",
    "# import packages for turning the recommendations into seperate columns\n",
    "from pyspark.sql.functions import col, explode\n",
    "\n",
    "# import packages for interactively selecting user\n",
    "from ipywidgets import widgets, interact"
   ]
  },
  {
   "cell_type": "markdown",
   "metadata": {},
   "source": [
    "# Read in the data"
   ]
  },
  {
   "cell_type": "markdown",
   "metadata": {},
   "source": [
    "We will be using the movielens dataset for this recommender system.\n",
    "The data on the movies and their ratings was uploaded to the HDFS and then cleaned in PIG to fix the columns. All of the movie and rating data was then joined into one table. This cleaned table was stored on the HDFS which is where we read this file in from."
   ]
  },
  {
   "cell_type": "code",
   "execution_count": 3,
   "metadata": {},
   "outputs": [],
   "source": [
    "#sc = SparkContext('local')\n",
    "#spark = SparkSession(sc)\n",
    "read_df = spark.read.csv(\"hdfs://cluster-1-m/user/Owner/output/cleaned_movies_nd_ratings\", sep=\"|\")"
   ]
  },
  {
   "cell_type": "code",
   "execution_count": 4,
   "metadata": {},
   "outputs": [
    {
     "data": {
      "text/plain": [
       "100836"
      ]
     },
     "execution_count": 4,
     "metadata": {},
     "output_type": "execute_result"
    }
   ],
   "source": [
    "read_df.count()"
   ]
  },
  {
   "cell_type": "markdown",
   "metadata": {},
   "source": [
    "#### Rename the columns"
   ]
  },
  {
   "cell_type": "code",
   "execution_count": 5,
   "metadata": {},
   "outputs": [],
   "source": [
    "renamed_cols_df = read_df.withColumnRenamed(\"_c0\", \"movie_id\")\\\n",
    "                         .withColumnRenamed(\"_c1\", \"title\")\\\n",
    "                         .withColumnRenamed(\"_c2\", \"year\")\\\n",
    "                         .withColumnRenamed(\"_c3\", \"genres\")\\\n",
    "                         .withColumnRenamed(\"_c4\", \"user_id\")\\\n",
    "                         .withColumnRenamed(\"_c5\", \"rating\")\\\n",
    "                         .withColumnRenamed(\"_c6\", \"timestamp\")"
   ]
  },
  {
   "cell_type": "markdown",
   "metadata": {},
   "source": [
    "#### Sort the datatypes"
   ]
  },
  {
   "cell_type": "code",
   "execution_count": 6,
   "metadata": {},
   "outputs": [
    {
     "name": "stdout",
     "output_type": "stream",
     "text": [
      "root\n",
      " |-- movie_id: string (nullable = true)\n",
      " |-- title: string (nullable = true)\n",
      " |-- year: string (nullable = true)\n",
      " |-- genres: string (nullable = true)\n",
      " |-- user_id: string (nullable = true)\n",
      " |-- rating: string (nullable = true)\n",
      " |-- timestamp: string (nullable = true)\n",
      "\n"
     ]
    }
   ],
   "source": [
    "# Quick look at the schema features and data types\n",
    "renamed_cols_df.printSchema()"
   ]
  },
  {
   "cell_type": "code",
   "execution_count": 7,
   "metadata": {},
   "outputs": [],
   "source": [
    "fixed_types_df = renamed_cols_df.withColumn(\"movie_id\", renamed_cols_df[\"movie_id\"].cast(IntegerType()))\\\n",
    "                                .withColumn(\"year\", renamed_cols_df[\"year\"].cast(IntegerType()))\\\n",
    "                                .withColumn(\"user_id\", renamed_cols_df[\"user_id\"].cast(IntegerType()))\\\n",
    "                                .withColumn(\"rating\", renamed_cols_df[\"rating\"].cast(DoubleType()))\\\n",
    "                                .withColumn(\"timestamp\", renamed_cols_df[\"timestamp\"].cast(IntegerType()))"
   ]
  },
  {
   "cell_type": "code",
   "execution_count": 8,
   "metadata": {},
   "outputs": [
    {
     "name": "stdout",
     "output_type": "stream",
     "text": [
      "root\n",
      " |-- movie_id: integer (nullable = true)\n",
      " |-- title: string (nullable = true)\n",
      " |-- year: integer (nullable = true)\n",
      " |-- genres: string (nullable = true)\n",
      " |-- user_id: integer (nullable = true)\n",
      " |-- rating: double (nullable = true)\n",
      " |-- timestamp: integer (nullable = true)\n",
      "\n"
     ]
    }
   ],
   "source": [
    "fixed_types_df.printSchema()"
   ]
  },
  {
   "cell_type": "markdown",
   "metadata": {},
   "source": [
    "#### Drop not needed columns"
   ]
  },
  {
   "cell_type": "code",
   "execution_count": 9,
   "metadata": {},
   "outputs": [],
   "source": [
    "df = fixed_types_df.drop(\"timestamp\")"
   ]
  },
  {
   "cell_type": "markdown",
   "metadata": {},
   "source": [
    "#### Manually check this dataframe"
   ]
  },
  {
   "cell_type": "markdown",
   "metadata": {},
   "source": [
    "We will do some brief analysis of the dataset here to get a feel for its contents. This analysis will hope to inform us when it comes to designing the recommender system."
   ]
  },
  {
   "cell_type": "code",
   "execution_count": 10,
   "metadata": {
    "scrolled": true
   },
   "outputs": [
    {
     "name": "stdout",
     "output_type": "stream",
     "text": [
      "+--------+---------+----+--------------------+-------+------+\n",
      "|movie_id|    title|year|              genres|user_id|rating|\n",
      "+--------+---------+----+--------------------+-------+------+\n",
      "|       1|Toy Story|1995|(Adventure,Animat...|    314|   3.0|\n",
      "|       1|Toy Story|1995|(Adventure,Animat...|    240|   5.0|\n",
      "|       1|Toy Story|1995|(Adventure,Animat...|    500|   4.0|\n",
      "|       1|Toy Story|1995|(Adventure,Animat...|     90|   3.0|\n",
      "|       1|Toy Story|1995|(Adventure,Animat...|     89|   3.0|\n",
      "|       1|Toy Story|1995|(Adventure,Animat...|    504|   4.0|\n",
      "|       1|Toy Story|1995|(Adventure,Animat...|     91|   4.0|\n",
      "|       1|Toy Story|1995|(Adventure,Animat...|     86|   4.0|\n",
      "|       1|Toy Story|1995|(Adventure,Animat...|    509|   4.0|\n",
      "|       1|Toy Story|1995|(Adventure,Animat...|    492|   4.0|\n",
      "+--------+---------+----+--------------------+-------+------+\n",
      "only showing top 10 rows\n",
      "\n"
     ]
    }
   ],
   "source": [
    "df.show(10)"
   ]
  },
  {
   "cell_type": "markdown",
   "metadata": {},
   "source": [
    "#### See how many users and movies there are"
   ]
  },
  {
   "cell_type": "code",
   "execution_count": 11,
   "metadata": {},
   "outputs": [
    {
     "name": "stdout",
     "output_type": "stream",
     "text": [
      "There are 610 users in this dataset.\n"
     ]
    }
   ],
   "source": [
    "print \"There are\", df.select(\"user_id\").dropDuplicates().count(), \"users in this dataset.\""
   ]
  },
  {
   "cell_type": "code",
   "execution_count": 12,
   "metadata": {},
   "outputs": [
    {
     "name": "stdout",
     "output_type": "stream",
     "text": [
      "There are 9724 movies in this dataset.\n"
     ]
    }
   ],
   "source": [
    "print \"There are\", df.select(\"movie_id\").dropDuplicates().count(), \"movies in this dataset.\""
   ]
  },
  {
   "cell_type": "markdown",
   "metadata": {},
   "source": [
    "#### See what their max and min values are"
   ]
  },
  {
   "cell_type": "code",
   "execution_count": 13,
   "metadata": {},
   "outputs": [
    {
     "name": "stdout",
     "output_type": "stream",
     "text": [
      "Min user_id = Row(min(user_id)=1)\n",
      "Max user_id = Row(max(user_id)=610)\n"
     ]
    }
   ],
   "source": [
    "print \"Min user_id =\", df.agg({\"user_id\": \"min\"}).collect()[0]\n",
    "print \"Max user_id =\", df.agg({\"user_id\": \"max\"}).collect()[0]"
   ]
  },
  {
   "cell_type": "code",
   "execution_count": 14,
   "metadata": {},
   "outputs": [
    {
     "name": "stdout",
     "output_type": "stream",
     "text": [
      "Min movie_id = Row(min(movie_id)=1)\n",
      "Max movie_id = Row(max(movie_id)=193609)\n"
     ]
    }
   ],
   "source": [
    "print \"Min movie_id =\", df.agg({\"movie_id\": \"min\"}).collect()[0]\n",
    "print \"Max movie_id =\", df.agg({\"movie_id\": \"max\"}).collect()[0]"
   ]
  },
  {
   "cell_type": "code",
   "execution_count": 15,
   "metadata": {},
   "outputs": [
    {
     "name": "stdout",
     "output_type": "stream",
     "text": [
      "+--------+--------------------+\n",
      "|movie_id|               title|\n",
      "+--------+--------------------+\n",
      "|      29|City of Lost Chil...|\n",
      "|     775| Spirits of the Dead|\n",
      "|     848| Spitfire Grill, The|\n",
      "|     946|  To Be or Not to Be|\n",
      "|    1120|People vs. Larry ...|\n",
      "|    1136|Monty Python and ...|\n",
      "|    1799|       Suicide Kings|\n",
      "|    1882|            Godzilla|\n",
      "|    1928|            Cimarron|\n",
      "|    2344|       Runaway Train|\n",
      "+--------+--------------------+\n",
      "only showing top 10 rows\n",
      "\n"
     ]
    }
   ],
   "source": [
    "df.select([\"movie_id\", \"title\"]).drop_duplicates().show(10)"
   ]
  },
  {
   "cell_type": "markdown",
   "metadata": {},
   "source": [
    "#### Check if there are users with multiple ratings on a particular movie"
   ]
  },
  {
   "cell_type": "code",
   "execution_count": 16,
   "metadata": {},
   "outputs": [],
   "source": [
    "if df[\"movie_id\", \"user_id\"].count() > df.dropDuplicates([\"movie_id\", \"user_id\"]).count():\n",
    "    raise ValueError('Data has duplicates')"
   ]
  },
  {
   "cell_type": "markdown",
   "metadata": {},
   "source": [
    "# Calculate the sparcity of a users vs movies matrix"
   ]
  },
  {
   "attachments": {
    "image.png": {
     "image/png": "[encoded data removed]"
    }
   },
   "cell_type": "markdown",
   "metadata": {},
   "source": [
    "A utility matrix is a matric where all of the movies are listed as the columns and all of the users are listed as the rows. Then the intersection values between the movies and a users are filled in as the ratings that the particular user gave to that movie.\n",
    "An example of this is as follows:\n",
    "![image.png](attachment:image.png)\n",
    "\n",
    "As most users will not have rated many of the thousands of movies in the dataset, this matrix will contain mostly null values. The % sparcity of this matrix can be calculated as follows:"
   ]
  },
  {
   "cell_type": "code",
   "execution_count": 22,
   "metadata": {},
   "outputs": [],
   "source": [
    "# Count the total number of ratings in the dataset\n",
    "num_ratings = df.select(\"rating\").count()\n",
    "\n",
    "# Count the number of distinct userIds and distinct movieIds\n",
    "num_users = df.select(\"user_id\").distinct().count()\n",
    "num_movies = df.select(\"movie_id\").distinct().count()"
   ]
  },
  {
   "cell_type": "code",
   "execution_count": 23,
   "metadata": {},
   "outputs": [
    {
     "name": "stdout",
     "output_type": "stream",
     "text": [
      "The ratings dataframe is 98.30% empty.\n"
     ]
    }
   ],
   "source": [
    "# Caluclate the sparsity\n",
    "sparsity = (1.0 - ((num_ratings * 1.0) / (num_users * num_movies))) * 100\n",
    "\n",
    "print \"The ratings dataframe is %.2f\" % sparsity + \"% empty.\""
   ]
  },
  {
   "cell_type": "markdown",
   "metadata": {},
   "source": [
    "# Build recommender model"
   ]
  },
  {
   "cell_type": "markdown",
   "metadata": {},
   "source": [
    "Here we will build our recommender system using this utility matrix. This process involves a few steps:\n",
    "    1. Splitting the data into a train and test set\n",
    "    2. Creating the model\n",
    "    3. Fitting he model to the data\n",
    "    4. Evaluating the model\n",
    "    5. Making the recommendation\n",
    "    \n",
    "As there are a lot of inbuilt functions, a lot of these steps are reasonably straight forward to do."
   ]
  },
  {
   "cell_type": "markdown",
   "metadata": {},
   "source": [
    "There are two main approaches to recommendation, these are **content based filtering** recommendation and a **collaborative filtering** recommendation.\n",
    "\n",
    "A recommendation using content based filtering is one where the recommendation is based on the content, which in our case is the movie. Using this method, a movie would be run through the recommender system and the system would spit back other movies based on this movie.\n",
    "\n",
    "A recommendation using collaborative filtering is one where the recommendation is based on similarity between collaborators in the data, which in our case are the users. Using this method, we run a user through the recommender system and the system returns recommended movies to watch based on movie ratings that similar users to that user did.\n",
    "\n",
    "In our case, we will use Collaborative filtering."
   ]
  },
  {
   "cell_type": "markdown",
   "metadata": {},
   "source": [
    "#### Split the data into a train & test split"
   ]
  },
  {
   "cell_type": "markdown",
   "metadata": {},
   "source": [
    "I decided that a train-test split of 80-20 was sufficient for this use case. 80-20 is a fairly standard split ratio. The random seed of 42 was chosen as it is also a very common random seed."
   ]
  },
  {
   "cell_type": "code",
   "execution_count": 17,
   "metadata": {},
   "outputs": [],
   "source": [
    "# Split the data to create a test and train set\n",
    "train, test = df.randomSplit([0.8, 0.2], seed = 42)"
   ]
  },
  {
   "cell_type": "markdown",
   "metadata": {},
   "source": [
    "#### Create model"
   ]
  },
  {
   "cell_type": "markdown",
   "metadata": {},
   "source": [
    "The particular technique we will use to factorise the utility matrix is Alternating Least Squares (ALS). This collaborative filtering technique is implemented in Apache Spark ML and runs in a parallel manor. It is good at dealing with large sparse matricies similar to the one we have with our users and movies.\n",
    "\n",
    "This approach lends itself easily to item-based collaborative filtering and user-based collaborative filtering which gives us more options when it comes to our recommendations."
   ]
  },
  {
   "cell_type": "code",
   "execution_count": 18,
   "metadata": {},
   "outputs": [],
   "source": [
    "# Create ALS model\n",
    "als = ALS(userCol=\"user_id\", itemCol=\"movie_id\", ratingCol=\"rating\", nonnegative=True, implicitPrefs=False, coldStartStrategy=\"drop\")"
   ]
  },
  {
   "cell_type": "markdown",
   "metadata": {},
   "source": [
    "#### Fit the model to the trainind data"
   ]
  },
  {
   "cell_type": "code",
   "execution_count": 19,
   "metadata": {},
   "outputs": [],
   "source": [
    "# train out model by fitting it to the training data\n",
    "model = als.fit(train)"
   ]
  },
  {
   "cell_type": "markdown",
   "metadata": {},
   "source": [
    "#### Evaluate the model"
   ]
  },
  {
   "cell_type": "markdown",
   "metadata": {},
   "source": [
    "The test set comes in to evaluate the model that was trained on the training set. We first run this test set through the model to get a prediction and we then use an evaluation metric to measure the models accuracy.\n",
    "\n",
    "The evaluation metric we will use is Root Mean Squared Error (RMSE), this metric measures the difference between the predicted value and the actual value and aggregates the error across all of the different ratings into one single metric.\n",
    "This error metric is always a positive value as no data can have a negative error, but can only have no error. The closer the metric is to 0, the better the predictive power of our model is."
   ]
  },
  {
   "cell_type": "code",
   "execution_count": 20,
   "metadata": {},
   "outputs": [],
   "source": [
    "# run the test set through the model to get a prediction\n",
    "predictions = model.transform(test)"
   ]
  },
  {
   "cell_type": "code",
   "execution_count": 21,
   "metadata": {},
   "outputs": [
    {
     "name": "stdout",
     "output_type": "stream",
     "text": [
      "+--------+--------------------+----+--------------------+-------+------+----------+\n",
      "|movie_id|               title|year|              genres|user_id|rating|prediction|\n",
      "+--------+--------------------+----+--------------------+-------+------+----------+\n",
      "|     471|Hudsucker Proxy, The|1994|            (Comedy)|    500|   1.0| 3.6545558|\n",
      "|     471|Hudsucker Proxy, The|1994|            (Comedy)|     57|   3.0| 3.2691827|\n",
      "|     471|Hudsucker Proxy, The|1994|            (Comedy)|    462|   2.0|   2.83155|\n",
      "|     471|Hudsucker Proxy, The|1994|            (Comedy)|    610|   4.0| 3.4102268|\n",
      "|     471|Hudsucker Proxy, The|1994|            (Comedy)|    520|   5.0| 3.3425498|\n",
      "|     471|Hudsucker Proxy, The|1994|            (Comedy)|    171|   3.0| 4.1188407|\n",
      "|     471|Hudsucker Proxy, The|1994|            (Comedy)|    426|   5.0|  2.498088|\n",
      "|     471|Hudsucker Proxy, The|1994|            (Comedy)|    357|   3.0| 3.5415242|\n",
      "|    1088|       Dirty Dancing|1987|(Drama,Musical,Ro...|    554|   5.0| 4.1694326|\n",
      "|    1088|       Dirty Dancing|1987|(Drama,Musical,Ro...|     41|   1.0|  2.261442|\n",
      "+--------+--------------------+----+--------------------+-------+------+----------+\n",
      "only showing top 10 rows\n",
      "\n"
     ]
    }
   ],
   "source": [
    "# Compare the user rating to the predicted rating\n",
    "predictions.show(10)"
   ]
  },
  {
   "cell_type": "markdown",
   "metadata": {},
   "source": [
    "First visualising a side by side comparison of these rating and predicted ratings, we can see that the predicted ratings aren't too bad. While a few of them are off, others are quite close to eachother.\n",
    "\n",
    "We will now attempt to get an official metric on the accuracy of these predictions."
   ]
  },
  {
   "cell_type": "code",
   "execution_count": 22,
   "metadata": {},
   "outputs": [],
   "source": [
    "# Define an evaluator using RMSE\n",
    "evaluator = RegressionEvaluator(metricName=\"rmse\", labelCol=\"rating\", predictionCol=\"prediction\")"
   ]
  },
  {
   "cell_type": "code",
   "execution_count": 23,
   "metadata": {},
   "outputs": [
    {
     "name": "stdout",
     "output_type": "stream",
     "text": [
      "Root-mean-square error = 0.924886877152\n"
     ]
    }
   ],
   "source": [
    "# evaluate model performance\n",
    "rmse = evaluator.evaluate(predictions)\n",
    "\n",
    "print(\"Root-mean-square error = \" + str(rmse))"
   ]
  },
  {
   "cell_type": "markdown",
   "metadata": {},
   "source": [
    "We can see that our RMSE is 0.925 which is reasonable. This means that each predicted rating is on average off by 0.925 stars. As our ratings go from 0 to 5, this works out to be about an 81% accuracy, which is quite decent and gives hope that we can get some good recommendations with our algorithms."
   ]
  },
  {
   "cell_type": "markdown",
   "metadata": {},
   "source": [
    "# Recommend movies"
   ]
  },
  {
   "cell_type": "markdown",
   "metadata": {},
   "source": [
    "At this stage all the preperation is done and we can move onto making the recommendations.\n",
    "\n",
    "This will be broke down into 3 different types of recommendation:\n",
    "    1. Generating a recommendation of 'n' movies for each user in the dataset\n",
    "    2. Making 'n' movie recommendations for a specific user from the dataset (can also be changed to 'k' users)\n",
    "    3. Picking 'm' movies and then selecting 'u' users to recommend this movie to\n",
    "    \n",
    "The generalisability of the model lends itself well to these recommendation types. "
   ]
  },
  {
   "cell_type": "markdown",
   "metadata": {},
   "source": [
    "### 1. Generate recommendation for all users"
   ]
  },
  {
   "cell_type": "markdown",
   "metadata": {},
   "source": [
    "The first recommendation we will do is a recommendation for all users.\n",
    "Here we select the number of movies we want to recommend to each user and then run the 'recommendForAllUsers' function on the model. This function compares each user to the other users and based on similar users that like the same type of movies, it will recommend 'n' movies for that user to watch.\n",
    "\n",
    "This is a user-based collaborative filtering approach and could be used in the likes of Netflix recommendations where we recommend movies to each user with an account."
   ]
  },
  {
   "cell_type": "code",
   "execution_count": 24,
   "metadata": {},
   "outputs": [],
   "source": [
    "num_movies_to_recommend = 5"
   ]
  },
  {
   "cell_type": "code",
   "execution_count": 25,
   "metadata": {},
   "outputs": [],
   "source": [
    "# Generate n Recommendations for all users\n",
    "recommendations_for_users = model.recommendForAllUsers(num_movies_to_recommend)"
   ]
  },
  {
   "cell_type": "markdown",
   "metadata": {},
   "source": [
    "We can see the recommendations given to each user in a table."
   ]
  },
  {
   "cell_type": "code",
   "execution_count": 26,
   "metadata": {},
   "outputs": [
    {
     "name": "stdout",
     "output_type": "stream",
     "text": [
      "+-------+--------------------------------------------------------------------------------------------------+\n",
      "|user_id|recommendations                                                                                   |\n",
      "+-------+--------------------------------------------------------------------------------------------------+\n",
      "|471    |[[171495, 4.449134], [3677, 4.4246325], [3266, 4.4195385], [7121, 4.381981], [33649, 4.336961]]   |\n",
      "|463    |[[7121, 4.628688], [26171, 4.5963597], [2295, 4.5551105], [6201, 4.5551105], [4495, 4.5551105]]   |\n",
      "|496    |[[51931, 4.8322306], [932, 4.6632023], [3819, 4.60512], [3266, 4.5654616], [306, 4.5265884]]      |\n",
      "|148    |[[6380, 4.7784023], [6732, 4.7309885], [5034, 4.6771827], [33649, 4.6433926], [1046, 4.6124983]]  |\n",
      "|540    |[[7842, 5.293226], [171495, 5.235217], [141718, 5.177737], [33649, 5.1200557], [7071, 5.092456]]  |\n",
      "|392    |[[27611, 5.1704335], [2730, 5.07279], [171495, 5.0011835], [232, 4.993888], [3677, 4.95216]]      |\n",
      "|243    |[[6433, 6.475854], [170705, 6.4198246], [32892, 6.3884373], [59814, 6.340795], [51931, 6.2528944]]|\n",
      "|31     |[[112804, 5.8616753], [51931, 5.859089], [47423, 5.7181745], [33649, 5.5373244], [932, 5.4786882]]|\n",
      "|516    |[[26171, 6.203163], [2295, 5.155989], [6201, 5.155989], [4495, 5.155989], [7121, 5.1261296]]      |\n",
      "|580    |[[6433, 4.927187], [6300, 4.83378], [26073, 4.829154], [84273, 4.829154], [7071, 4.829154]]       |\n",
      "+-------+--------------------------------------------------------------------------------------------------+\n",
      "\n"
     ]
    }
   ],
   "source": [
    "recommendations_for_users.limit(10).show(truncate=False)"
   ]
  },
  {
   "cell_type": "markdown",
   "metadata": {},
   "source": [
    "We can turn this recommendations column into two columns for easier visualisation of the recommended movies. This gves the following:"
   ]
  },
  {
   "cell_type": "code",
   "execution_count": 27,
   "metadata": {},
   "outputs": [
    {
     "name": "stdout",
     "output_type": "stream",
     "text": [
      "+-------+--------+---------+\n",
      "|user_id|movie_id|   rating|\n",
      "+-------+--------+---------+\n",
      "|    471|  171495| 4.449134|\n",
      "|    471|    3677|4.4246325|\n",
      "|    471|    3266|4.4195385|\n",
      "|    471|    7121| 4.381981|\n",
      "|    471|   33649| 4.336961|\n",
      "|    463|    7121| 4.628688|\n",
      "|    463|   26171|4.5963597|\n",
      "|    463|    2295|4.5551105|\n",
      "|    463|    6201|4.5551105|\n",
      "|    463|    4495|4.5551105|\n",
      "+-------+--------+---------+\n",
      "\n"
     ]
    }
   ],
   "source": [
    "user_rec_nd_pred_rating = recommendations_for_users.withColumn(\"exploded_rec\", explode(\"recommendations\"))\\\n",
    "                                                   .select('user_id', col(\"exploded_rec.movie_id\"), col(\"exploded_rec.rating\"))\n",
    "\n",
    "user_rec_nd_pred_rating.limit(10).show()"
   ]
  },
  {
   "cell_type": "markdown",
   "metadata": {},
   "source": [
    "Each user now has 5 recommended movies assigned to them by the recommender system. These movies are based of a predicted rating of what each user would rate each movie and the top 'n' predicted rated movies for each user are chosen.\n",
    "\n",
    "We can further dive into a specific user and see **how the recommendations compare to the users actual highly rated movies**.\n",
    "\n",
    "The example below follows the user with user_id of 12."
   ]
  },
  {
   "cell_type": "markdown",
   "metadata": {},
   "source": [
    "* Recommended movies"
   ]
  },
  {
   "cell_type": "code",
   "execution_count": 28,
   "metadata": {},
   "outputs": [
    {
     "name": "stdout",
     "output_type": "stream",
     "text": [
      "+-------+--------+-------------+----+----------------------+---------+\n",
      "|user_id|movie_id|title        |year|genres                |rating   |\n",
      "+-------+--------+-------------+----+----------------------+---------+\n",
      "|12     |3567    |Bossa Nova   |2000|(Comedy,Drama,Romance)|6.612814 |\n",
      "|12     |112804  |I Origins    |2014|(Drama,Sci-Fi)        |6.419753 |\n",
      "|12     |51931   |Reign Over Me|2007|(Drama)               |6.4145527|\n",
      "|12     |33649   |Saving Face  |2004|(Comedy,Drama,Romance)|6.202682 |\n",
      "|12     |47423   |Half Nelson  |2006|(Drama)               |6.150974 |\n",
      "+-------+--------+-------------+----+----------------------+---------+\n",
      "\n"
     ]
    }
   ],
   "source": [
    "user_rec_nd_pred_rating.join(df.drop('user_id', 'rating').dropDuplicates(), ['movie_id'], how='left') \\\n",
    "                       .select(col('user_id'), col('movie_id'), col('title'), col('year'), col('genres'), col('rating')) \\\n",
    "                       .filter('user_id = 12') \\\n",
    "                       .sort('rating', ascending=False).limit(10).show(truncate=False)"
   ]
  },
  {
   "cell_type": "markdown",
   "metadata": {},
   "source": [
    "* Users top rated movies"
   ]
  },
  {
   "cell_type": "code",
   "execution_count": 29,
   "metadata": {},
   "outputs": [
    {
     "name": "stdout",
     "output_type": "stream",
     "text": [
      "+-------+--------+--------------------------+----+-----------------------+------+\n",
      "|user_id|movie_id|title                     |year|genres                 |rating|\n",
      "+-------+--------+--------------------------+----+-----------------------+------+\n",
      "|12     |1721    |Titanic                   |1997|(Drama,Romance)        |5.0   |\n",
      "|12     |2717    |Ghostbusters II           |1989|(Comedy,Fantasy,Sci-Fi)|5.0   |\n",
      "|12     |2072    |'burbs, The               |1989|(Comedy)               |5.0   |\n",
      "|12     |222     |Circle of Friends         |1995|(Drama,Romance)        |5.0   |\n",
      "|12     |2485    |She's All That            |1999|(Comedy,Romance)       |5.0   |\n",
      "|12     |838     |Emma                      |1996|(Comedy,Drama,Romance) |5.0   |\n",
      "|12     |2572    |10 Things I Hate About You|1999|(Comedy,Romance)       |5.0   |\n",
      "|12     |1357    |Shine                     |1996|(Drama,Romance)        |5.0   |\n",
      "|12     |2581    |Never Been Kissed         |1999|(Comedy,Romance)       |5.0   |\n",
      "|12     |256     |Junior                    |1994|(Comedy,Sci-Fi)        |5.0   |\n",
      "+-------+--------+--------------------------+----+-----------------------+------+\n",
      "\n"
     ]
    }
   ],
   "source": [
    "df.select(df.user_id, df.movie_id, df.title, df.year, df.genres, df.rating) \\\n",
    "  .filter('user_id = 12') \\\n",
    "  .sort('rating', ascending=False).limit(10).show(truncate=False)"
   ]
  },
  {
   "cell_type": "markdown",
   "metadata": {},
   "source": [
    "Here we have shown the users top 10 rated movies and then the 5 movies that the system recommends for this given user. As you can see from the users highly rated movies, the genres of these movies are most commonly Drama, Romance and Comody. It can also be seen that our recommendation system has taken this on board and has recommended movies with the genres Comody, Drama and Romance.\n",
    "\n",
    "This shows the effectiveness of the recommender system's recommendations."
   ]
  },
  {
   "cell_type": "markdown",
   "metadata": {},
   "source": [
    "### 2. Recommend for specific user"
   ]
  },
  {
   "cell_type": "markdown",
   "metadata": {},
   "source": [
    "The next recommendation type we will look at taking a specific users and then making a recommendation of 'n' movies for this user. This is similar to the above recommendation for all users except here we only recommend for one user.\n",
    "\n",
    "I have set this up so that the user can be interactively chosen from all of the users in the dataset. From above we saw there was 610 users with user_id's ranging from 1 to 610 in increments of 1. I used this to create a slider where you can interactively select which user_id to make the recommendations for."
   ]
  },
  {
   "cell_type": "code",
   "execution_count": 44,
   "metadata": {},
   "outputs": [
    {
     "data": {
      "application/vnd.jupyter.widget-view+json": {
       "model_id": "a39e7a1e04c744a1b3b609c357440181",
       "version_major": 2,
       "version_minor": 0
      },
      "text/html": [
       "<p>Failed to display Jupyter Widget of type <code>interactive</code>.</p>\n",
       "<p>\n",
       "  If you're reading this message in the Jupyter Notebook or JupyterLab Notebook, it may mean\n",
       "  that the widgets JavaScript is still loading. If this message persists, it\n",
       "  likely means that the widgets JavaScript library is either not installed or\n",
       "  not enabled. See the <a href=\"https://ipywidgets.readthedocs.io/en/stable/user_install.html\">Jupyter\n",
       "  Widgets Documentation</a> for setup instructions.\n",
       "</p>\n",
       "<p>\n",
       "  If you're reading this message in another frontend (for example, a static\n",
       "  rendering on GitHub or <a href=\"https://nbviewer.jupyter.org/\">NBViewer</a>),\n",
       "  it may mean that your frontend doesn't currently support widgets.\n",
       "</p>\n"
      ],
      "text/plain": [
       "interactive(children=(IntSlider(value=304, description=u'x', max=610, min=1), Output()), _dom_classes=('widget-interact',))"
      ]
     },
     "metadata": {},
     "output_type": "display_data"
    }
   ],
   "source": [
    "slider_variable = widgets.Text()\n",
    "\n",
    "def set_slider_val(x):\n",
    "    slider_variable.value = str(x)\n",
    "    \n",
    "_ = interact(set_slider_val, x=widgets.IntSlider(min=1, max=610, step=1, value=304))"
   ]
  },
  {
   "cell_type": "markdown",
   "metadata": {},
   "source": [
    "The value returned by this slider must then be turned to an interger so that it can be used to make the recommendations"
   ]
  },
  {
   "cell_type": "code",
   "execution_count": 45,
   "metadata": {},
   "outputs": [
    {
     "data": {
      "text/plain": [
       "304"
      ]
     },
     "execution_count": 45,
     "metadata": {},
     "output_type": "execute_result"
    }
   ],
   "source": [
    "specific_user_id = int(slider_variable.value)\n",
    "specific_user_id"
   ]
  },
  {
   "cell_type": "code",
   "execution_count": 46,
   "metadata": {},
   "outputs": [
    {
     "name": "stdout",
     "output_type": "stream",
     "text": [
      "+-------+\n",
      "|user_id|\n",
      "+-------+\n",
      "|    304|\n",
      "+-------+\n",
      "\n"
     ]
    }
   ],
   "source": [
    "specific_user = df.select(als.getUserCol()).distinct().filter((df.user_id == specific_user_id))\n",
    "specific_user.show()"
   ]
  },
  {
   "cell_type": "code",
   "execution_count": 47,
   "metadata": {},
   "outputs": [],
   "source": [
    "# get top 'n' movie recommendations for the above selected user\n",
    "num_movie_recommendations = 10\n",
    "specifc_user_recommendation = model.recommendForUserSubset(specific_user, num_movie_recommendations)"
   ]
  },
  {
   "cell_type": "code",
   "execution_count": 48,
   "metadata": {},
   "outputs": [],
   "source": [
    "# turn the recommendation column into multiple columns for easy visualisation\n",
    "exploded_specific_rec = specifc_user_recommendation.withColumn(\"exploded_rec\", explode(\"recommendations\"))\\\n",
    "                                                   .select('user_id', col(\"exploded_rec.movie_id\"), col(\"exploded_rec.rating\"))"
   ]
  },
  {
   "cell_type": "markdown",
   "metadata": {},
   "source": [
    "Again after generating the recommendations, we can compare this users recommendation with their actual top rated movies."
   ]
  },
  {
   "cell_type": "markdown",
   "metadata": {},
   "source": [
    "* Recommended movies"
   ]
  },
  {
   "cell_type": "code",
   "execution_count": 49,
   "metadata": {},
   "outputs": [
    {
     "name": "stdout",
     "output_type": "stream",
     "text": [
      "+-------+--------+-----------------------------------------------------------+----+------------------------+---------+\n",
      "|user_id|movie_id|title                                                      |year|genres                  |rating   |\n",
      "+-------+--------+-----------------------------------------------------------+----+------------------------+---------+\n",
      "|304    |7842    |Dune                                                       |2000|(Drama,Fantasy,Sci-Fi)  |5.5235677|\n",
      "|304    |161582  |Hell or High Water                                         |2016|(Crime,Drama)           |5.5121403|\n",
      "|304    |33649   |Saving Face                                                |2004|(Comedy,Drama,Romance)  |5.326763 |\n",
      "|304    |26171   |Play Time (a.k.a. Playtime)                                |1967|(Comedy)                |5.2216516|\n",
      "|304    |6650    |Kind Hearts and Coronets                                   |1949|(Comedy,Drama)          |5.195016 |\n",
      "|304    |32892   |Ivan's Childhood (a.k.a. My Name is Ivan) (Ivanovo detstvo)|1962|(Drama,War)             |5.1323566|\n",
      "|304    |132333  |Seve                                                       |2014|(Documentary,Drama)     |5.120542 |\n",
      "|304    |6732    |Hello, Dolly!                                              |1969|(Comedy,Musical,Romance)|5.1205006|\n",
      "|304    |1949    |Man for All Seasons, A                                     |1966|(Drama)                 |5.099388 |\n",
      "|304    |131724  |The Jinx: The Life and Deaths of Robert Durst              |2015|(Documentary)           |5.0663776|\n",
      "+-------+--------+-----------------------------------------------------------+----+------------------------+---------+\n",
      "\n"
     ]
    }
   ],
   "source": [
    "exploded_specific_rec.join(df.drop('user_id', 'rating').dropDuplicates(), ['movie_id'], how='left') \\\n",
    "                     .select(col('user_id'), col('movie_id'), col('title'), col('year'), col('genres'), col('rating')) \\\n",
    "                     .sort('rating', ascending=False) \\\n",
    "                     .show(num_movie_recommendations, truncate=False)"
   ]
  },
  {
   "cell_type": "markdown",
   "metadata": {},
   "source": [
    "* Actual top rated movies"
   ]
  },
  {
   "cell_type": "code",
   "execution_count": 50,
   "metadata": {},
   "outputs": [
    {
     "name": "stdout",
     "output_type": "stream",
     "text": [
      "+-------+--------+----------------------------------+----+---------------------------------------------+------+\n",
      "|user_id|movie_id|title                             |year|genres                                       |rating|\n",
      "+-------+--------+----------------------------------+----+---------------------------------------------+------+\n",
      "|304    |150     |Apollo 13                         |1995|(Adventure,Drama,IMAX)                       |5.0   |\n",
      "|304    |524     |Rudy                              |1993|(Drama)                                      |5.0   |\n",
      "|304    |224     |Don Juan DeMarco                  |1995|(Comedy,Drama,Romance)                       |5.0   |\n",
      "|304    |1       |Toy Story                         |1995|(Adventure,Animation,Children,Comedy,Fantasy)|5.0   |\n",
      "|304    |260     |Star Wars: Episode IV - A New Hope|1977|(Action,Adventure,Sci-Fi)                    |5.0   |\n",
      "|304    |62      |Mr. Holland's Opus                |1995|(Drama)                                      |5.0   |\n",
      "|304    |296     |Pulp Fiction                      |1994|(Comedy,Crime,Drama,Thriller)                |5.0   |\n",
      "|304    |110     |Braveheart                        |1995|(Action,Drama,War)                           |5.0   |\n",
      "|304    |356     |Forrest Gump                      |1994|(Comedy,Drama,Romance,War)                   |5.0   |\n",
      "|304    |357     |Four Weddings and a Funeral       |1994|(Comedy,Romance)                             |5.0   |\n",
      "+-------+--------+----------------------------------+----+---------------------------------------------+------+\n",
      "\n"
     ]
    }
   ],
   "source": [
    "df.select(df.user_id, df.movie_id, df.title, df.year, df.genres, df.rating) \\\n",
    "  .filter((df.user_id == specific_user_id)) \\\n",
    "  .sort('rating', ascending=False).limit(10).show(truncate=False)"
   ]
  },
  {
   "cell_type": "markdown",
   "metadata": {},
   "source": [
    "Again we can see that for this user, similar movie genres to what the user rated highly, were recommended to this user.\n",
    "\n",
    "We could also set this up so that we generate a recommdendation for more than one user. This would just mean the 'specific_user' dataframe would need to contain the id's of multiple users and that we filter the data to multiple user_id's when visualising the results. The dataframe of multiple users could be generated in a way similar to the specific user above, or in the same way as recommendation 3 (see below) is, or we could get a random 'k' users from the dataset using the following code:"
   ]
  },
  {
   "cell_type": "code",
   "execution_count": 51,
   "metadata": {},
   "outputs": [],
   "source": [
    "# Select a certain number of users to make a recommendation to\n",
    "num_users = 3\n",
    "users = df.select(als.getUserCol()).distinct().limit(num_users)"
   ]
  },
  {
   "cell_type": "code",
   "execution_count": 52,
   "metadata": {},
   "outputs": [
    {
     "name": "stdout",
     "output_type": "stream",
     "text": [
      "+-------+\n",
      "|user_id|\n",
      "+-------+\n",
      "|    471|\n",
      "|    463|\n",
      "|    148|\n",
      "+-------+\n",
      "\n"
     ]
    }
   ],
   "source": [
    "users.show()"
   ]
  },
  {
   "cell_type": "markdown",
   "metadata": {},
   "source": [
    "### 3. Recommend based on movie"
   ]
  },
  {
   "cell_type": "markdown",
   "metadata": {},
   "source": [
    "The other approach that's possible is a reverse if the previous two where we take in a movie, and generate a number of users to recommend this movie to. This item-based collaborative filtering technique is again based on the ratings each user gave to the movies. In this approach, we take the given movie and see what users like this movie and then use these users to deduce which other users would also this movie.\n",
    "\n",
    "We have the option to recommend users for all movies, or recommend users for a subset of users. For our purpose we will only make recommendations for a number of movies as a demostration, however, we could do this for all movies.\n",
    "\n",
    "Different to the above approach, here we will specify a list of movie_id's to recommend based on. This is an alternate way to specify the value of what we want to recommend based on."
   ]
  },
  {
   "cell_type": "code",
   "execution_count": 53,
   "metadata": {},
   "outputs": [
    {
     "name": "stdout",
     "output_type": "stream",
     "text": [
      "+--------+\n",
      "|movie_id|\n",
      "+--------+\n",
      "|     471|\n",
      "|    1034|\n",
      "|    3576|\n",
      "+--------+\n",
      "\n"
     ]
    }
   ],
   "source": [
    "# select the number of movies that we want to recommend to users\n",
    "list_of_movie_ids = [471, 1034, 3576]\n",
    "\n",
    "movies = df.select(als.getItemCol()).distinct().filter(df.movie_id.isin(list_of_movie_ids))\n",
    "movies.show()"
   ]
  },
  {
   "cell_type": "code",
   "execution_count": 54,
   "metadata": {},
   "outputs": [],
   "source": [
    "# get top 'n' users that would like the above selected movies\n",
    "num_users_to_recommend = 5\n",
    "movie_subset_recommendations = model.recommendForItemSubset(movies, num_users_to_recommend)"
   ]
  },
  {
   "cell_type": "code",
   "execution_count": 55,
   "metadata": {},
   "outputs": [
    {
     "name": "stdout",
     "output_type": "stream",
     "text": [
      "+--------+--------------------+\n",
      "|movie_id|     recommendations|\n",
      "+--------+--------------------+\n",
      "|     471|[[595, 4.5760174]...|\n",
      "|    1034|[[544, 4.871164],...|\n",
      "|    3576|[[43, 4.477281], ...|\n",
      "+--------+--------------------+\n",
      "\n"
     ]
    }
   ],
   "source": [
    "movie_subset_recommendations.show()"
   ]
  },
  {
   "cell_type": "code",
   "execution_count": 56,
   "metadata": {},
   "outputs": [],
   "source": [
    "# turn the recommendation column into multiple columns for easy visualisation\n",
    "exploded_user_rec = movie_subset_recommendations.withColumn(\"exploded_rec\", explode(\"recommendations\"))\\\n",
    "                                                .select('movie_id', col(\"exploded_rec.user_id\"), col(\"exploded_rec.rating\"))"
   ]
  },
  {
   "cell_type": "markdown",
   "metadata": {},
   "source": [
    "* Recommended users for these movies"
   ]
  },
  {
   "cell_type": "code",
   "execution_count": 58,
   "metadata": {},
   "outputs": [
    {
     "name": "stdout",
     "output_type": "stream",
     "text": [
      "+--------+--------------------+----+-----------------------------+-------+---------+\n",
      "|movie_id|title               |year|genres                       |user_id|rating   |\n",
      "+--------+--------------------+----+-----------------------------+-------+---------+\n",
      "|3576    |Hidden, The         |1987|(Action,Horror,Sci-Fi)       |43     |4.477281 |\n",
      "|3576    |Hidden, The         |1987|(Action,Horror,Sci-Fi)       |276    |4.243143 |\n",
      "|3576    |Hidden, The         |1987|(Action,Horror,Sci-Fi)       |53     |4.1600914|\n",
      "|3576    |Hidden, The         |1987|(Action,Horror,Sci-Fi)       |243    |4.130786 |\n",
      "|3576    |Hidden, The         |1987|(Action,Horror,Sci-Fi)       |171    |4.0346756|\n",
      "|1034    |Freeway             |1996|(Comedy,Crime,Drama,Thriller)|544    |4.871164 |\n",
      "|1034    |Freeway             |1996|(Comedy,Crime,Drama,Thriller)|53     |4.627296 |\n",
      "|1034    |Freeway             |1996|(Comedy,Crime,Drama,Thriller)|243    |4.476461 |\n",
      "|1034    |Freeway             |1996|(Comedy,Crime,Drama,Thriller)|492    |4.2871246|\n",
      "|1034    |Freeway             |1996|(Comedy,Crime,Drama,Thriller)|276    |4.227099 |\n",
      "|471     |Hudsucker Proxy, The|1994|(Comedy)                     |595    |4.5760174|\n",
      "|471     |Hudsucker Proxy, The|1994|(Comedy)                     |53     |4.555277 |\n",
      "|471     |Hudsucker Proxy, The|1994|(Comedy)                     |191    |4.50356  |\n",
      "|471     |Hudsucker Proxy, The|1994|(Comedy)                     |544    |4.4536304|\n",
      "|471     |Hudsucker Proxy, The|1994|(Comedy)                     |1      |4.398593 |\n",
      "+--------+--------------------+----+-----------------------------+-------+---------+\n",
      "\n"
     ]
    }
   ],
   "source": [
    "exploded_user_rec.join(df.drop('user_id', 'rating').dropDuplicates(), ['movie_id'], how='left') \\\n",
    "                 .select(col('movie_id'), col('title'), col('year'), col('genres'), col('user_id'), col('rating')) \\\n",
    "                 .sort(['movie_id', 'rating'], ascending=False) \\\n",
    "                 .show(len(list_of_movie_ids) * num_users_to_recommend, truncate=False)"
   ]
  },
  {
   "cell_type": "markdown",
   "metadata": {},
   "source": [
    "While this way of recommending users based on the movie is harder to verify as it is difficult to compare the recommended user with the users that actually watch these movies, we have seen the accuracy of the recommender system from the other two examples. This item-based collaborative filtering approach show how both user-based and item-based can be useful depending on the use case.\n",
    "\n",
    "We might want to group similar users together based on a specific movie and the user recommendations of our system could be a way of doing that."
   ]
  },
  {
   "cell_type": "code",
   "execution_count": null,
   "metadata": {},
   "outputs": [],
   "source": []
  }
 ],
 "metadata": {
  "kernelspec": {
   "display_name": "PySpark",
   "language": "python",
   "name": "pyspark"
  },
  "language_info": {
   "codemirror_mode": {
    "name": "ipython",
    "version": 2
   },
   "file_extension": ".py",
   "mimetype": "text/x-python",
   "name": "python",
   "nbconvert_exporter": "python",
   "pygments_lexer": "ipython2",
   "version": "2.7.14"
  }
 },
 "nbformat": 4,
 "nbformat_minor": 2
}
